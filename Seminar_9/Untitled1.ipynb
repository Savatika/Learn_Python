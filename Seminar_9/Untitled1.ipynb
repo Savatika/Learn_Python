{
  "cells": [
    {
      "cell_type": "markdown",
      "metadata": {
        "colab_type": "text",
        "id": "view-in-github"
      },
      "source": [
        "<a href=\"https://colab.research.google.com/github/Savatika/Learn_Python/blob/main/Untitled1.ipynb\" target=\"_parent\"><img src=\"https://colab.research.google.com/assets/colab-badge.svg\" alt=\"Open In Colab\"/></a>"
      ]
    },
    {
      "cell_type": "code",
      "execution_count": null,
      "metadata": {
        "id": "5cMjCRQPwru5"
      },
      "outputs": [
        {
          "ename": "",
          "evalue": "",
          "output_type": "error",
          "traceback": [
            "\u001b[1;31mДля выполнения ячеек с \"c:\\Users\\admin\\AppData\\Local\\Programs\\Python\\Python311\\python.exe\" требуется пакет ipykernel.\n",
            "\u001b[1;31mRun the following command to install 'ipykernel' into the Python environment. \n",
            "\u001b[1;31mCommand: 'c:/Users/admin/AppData/Local/Programs/Python/Python311/python.exe -m pip install ipykernel -U --user --force-reinstall'"
          ]
        }
      ],
      "source": [
        "import pandas as pd"
      ]
    },
    {
      "cell_type": "code",
      "execution_count": 4,
      "metadata": {
        "id": "EoeWJtc2w_Df"
      },
      "outputs": [],
      "source": [
        "df = pd.read_csv('sample_data/california_housing_test.csv')"
      ]
    },
    {
      "cell_type": "code",
      "execution_count": null,
      "metadata": {
        "colab": {
          "base_uri": "https://localhost:8080/"
        },
        "id": "rP0fk3RU0O87",
        "outputId": "21f083da-f5f6-4105-c475-4289e0932f40"
      },
      "outputs": [
        {
          "data": {
            "text/plain": [
              "190157.0918032787"
            ]
          },
          "execution_count": 45,
          "metadata": {},
          "output_type": "execute_result"
        }
      ],
      "source": [
        "# Задача 40\n",
        "df[df['population'] <= 500] ['median_house_value'].mean()"
      ]
    },
    {
      "attachments": {},
      "cell_type": "markdown",
      "metadata": {},
      "source": [
        "Не совсем понял про зону минимального значения. Ниже 2 примера решения с разными вариантами."
      ]
    },
    {
      "cell_type": "code",
      "execution_count": 5,
      "metadata": {
        "colab": {
          "base_uri": "https://localhost:8080/"
        },
        "id": "UuP9DXZq4G6E",
        "outputId": "fa4d59b3-fc6e-43a8-d27a-1b3e75f0c21d"
      },
      "outputs": [
        {
          "data": {
            "text/plain": [
              "3.0"
            ]
          },
          "execution_count": 5,
          "metadata": {},
          "output_type": "execute_result"
        }
      ],
      "source": [
        "# Задача 42\n",
        "df[df['population']==df['population'].min()]['households'].max()"
      ]
    },
    {
      "cell_type": "code",
      "execution_count": null,
      "metadata": {},
      "outputs": [],
      "source": [
        "# Задача 42 \n",
        "df[df.population <= (df['population'].mean()/2)]['households'].max()"
      ]
    },
    {
      "cell_type": "markdown",
      "metadata": {
        "id": "l1i-vsT5w-uB"
      },
      "source": []
    }
  ],
  "metadata": {
    "colab": {
      "authorship_tag": "ABX9TyMfaJB513CUWLrJvztmsu4q",
      "include_colab_link": true,
      "provenance": []
    },
    "kernelspec": {
      "display_name": "Python 3",
      "name": "python3"
    },
    "language_info": {
      "name": "python",
      "version": "3.11.2"
    }
  },
  "nbformat": 4,
  "nbformat_minor": 0
}
